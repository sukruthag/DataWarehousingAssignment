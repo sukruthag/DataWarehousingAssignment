{
 "cells": [
  {
   "cell_type": "markdown",
   "id": "11d3ea83",
   "metadata": {},
   "source": [
    "# Analyze the sarcasm using clustering approach on twitter dataset.\n",
    "Sukrutha G(ENG20DS0040)"
   ]
  },
  {
   "cell_type": "code",
   "execution_count": 1,
   "id": "68ca3456",
   "metadata": {},
   "outputs": [],
   "source": [
    "import numpy as np\n",
    "import pandas as pd\n",
    "import matplotlib.pyplot as plt\n",
    "import seaborn as sns\n",
    "import os\n",
    "import re\n",
    "import string\n",
    "import tqdm\n",
    "\n",
    "import nltk\n",
    "\n",
    "from wordcloud import WordCloud\n",
    "from wordcloud import STOPWORDS\n",
    "from nltk.corpus import stopwords\n",
    "import xgboost\n",
    "\n",
    "from sklearn.model_selection import train_test_split\n",
    "from sklearn.preprocessing import LabelEncoder\n",
    "from sklearn import model_selection, preprocessing, linear_model, naive_bayes, metrics\n",
    "from sklearn.feature_extraction.text import TfidfVectorizer, CountVectorizer,HashingVectorizer\n",
    "from sklearn import decomposition, ensemble\n",
    "from sklearn.decomposition import PCA\n",
    "from sklearn.metrics import accuracy_score,f1_score\n",
    "\n",
    "import dask\n",
    "import multiprocessing\n",
    "from joblib import delayed, Parallel, parallel_backend"
   ]
  },
  {
   "cell_type": "code",
   "execution_count": null,
   "id": "5cf4278e",
   "metadata": {},
   "outputs": [],
   "source": [
    "pip install xgboost"
   ]
  },
  {
   "cell_type": "code",
   "execution_count": 2,
   "id": "0b687b63",
   "metadata": {},
   "outputs": [],
   "source": [
    "cores = multiprocessing.cpu_count()"
   ]
  },
  {
   "cell_type": "code",
   "execution_count": 3,
   "id": "f18bdde1",
   "metadata": {},
   "outputs": [],
   "source": [
    "train_data = pd.read_csv(\"D://5th Sem//Data Warehousing//train (1).csv\")\n",
    "test_data = pd.read_csv(\"D://5th Sem//Data Warehousing//test.csv\")\n",
    "\n",
    "train_tweets=train_data['tweets'].tolist()\n",
    "test_tweets=test_data['tweets'].tolist()\n",
    "\n",
    "def keep_uniques(array, df):\n",
    "    dels=[]\n",
    "    for i in array:\n",
    "        if array.count(i)>1:\n",
    "            dels.append(i)\n",
    "    dels=list(set(dels))\n",
    "    for i in dels:\n",
    "        df.drop( df[ df['tweets'] == i ].index, inplace=True)\n",
    "    return df\n",
    "\n",
    "train_data=keep_uniques(train_tweets, train_data)\n",
    "test_data=keep_uniques(test_tweets, test_data)"
   ]
  },
  {
   "cell_type": "code",
   "execution_count": 4,
   "id": "84b51c99",
   "metadata": {},
   "outputs": [
    {
     "data": {
      "text/plain": [
       "54618"
      ]
     },
     "execution_count": 4,
     "metadata": {},
     "output_type": "execute_result"
    }
   ],
   "source": [
    "len(train_data['tweets'].unique())"
   ]
  },
  {
   "cell_type": "code",
   "execution_count": 5,
   "id": "ce31a2eb",
   "metadata": {},
   "outputs": [
    {
     "data": {
      "text/plain": [
       "7861"
      ]
     },
     "execution_count": 5,
     "metadata": {},
     "output_type": "execute_result"
    }
   ],
   "source": [
    "len(test_data['tweets'].unique())"
   ]
  },
  {
   "cell_type": "code",
   "execution_count": 6,
   "id": "e08cda00",
   "metadata": {},
   "outputs": [
    {
     "data": {
      "text/html": [
       "<div>\n",
       "<style scoped>\n",
       "    .dataframe tbody tr th:only-of-type {\n",
       "        vertical-align: middle;\n",
       "    }\n",
       "\n",
       "    .dataframe tbody tr th {\n",
       "        vertical-align: top;\n",
       "    }\n",
       "\n",
       "    .dataframe thead th {\n",
       "        text-align: right;\n",
       "    }\n",
       "</style>\n",
       "<table border=\"1\" class=\"dataframe\">\n",
       "  <thead>\n",
       "    <tr style=\"text-align: right;\">\n",
       "      <th></th>\n",
       "      <th>count</th>\n",
       "      <th>unique</th>\n",
       "      <th>top</th>\n",
       "      <th>freq</th>\n",
       "    </tr>\n",
       "  </thead>\n",
       "  <tbody>\n",
       "    <tr>\n",
       "      <th>tweets</th>\n",
       "      <td>54618</td>\n",
       "      <td>54618</td>\n",
       "      <td>Scrolling through kindle books and see this lm...</td>\n",
       "      <td>1</td>\n",
       "    </tr>\n",
       "    <tr>\n",
       "      <th>class</th>\n",
       "      <td>54618</td>\n",
       "      <td>4</td>\n",
       "      <td>regular</td>\n",
       "      <td>18557</td>\n",
       "    </tr>\n",
       "  </tbody>\n",
       "</table>\n",
       "</div>"
      ],
      "text/plain": [
       "        count unique                                                top   freq\n",
       "tweets  54618  54618  Scrolling through kindle books and see this lm...      1\n",
       "class   54618      4                                            regular  18557"
      ]
     },
     "execution_count": 6,
     "metadata": {},
     "output_type": "execute_result"
    }
   ],
   "source": [
    "train_data.describe().T"
   ]
  },
  {
   "cell_type": "code",
   "execution_count": 7,
   "id": "d76fd724",
   "metadata": {},
   "outputs": [
    {
     "data": {
      "text/plain": [
       "regular       18557\n",
       "sarcasm       15404\n",
       "irony         12784\n",
       "figurative     7873\n",
       "Name: class, dtype: int64"
      ]
     },
     "execution_count": 7,
     "metadata": {},
     "output_type": "execute_result"
    }
   ],
   "source": [
    "train_data = train_data.sample(frac = 1)\n",
    "test_data = test_data.sample(frac = 1)\n",
    "train_data['class'].value_counts()"
   ]
  },
  {
   "cell_type": "code",
   "execution_count": 8,
   "id": "46d43552",
   "metadata": {},
   "outputs": [
    {
     "data": {
      "text/plain": [
       "sarcasm       15404\n",
       "regular       15294\n",
       "irony         12784\n",
       "figurative     7873\n",
       "Name: class, dtype: int64"
      ]
     },
     "execution_count": 8,
     "metadata": {},
     "output_type": "execute_result"
    }
   ],
   "source": [
    "temp=train_data.loc[train_data['class'] == 'regular']\n",
    "lis=temp['tweets'].tolist()\n",
    "\n",
    "import random\n",
    "reg_del=[]\n",
    "visited=set()\n",
    "for _ in range(3600):\n",
    "    n=random.randint(0,18556)\n",
    "    if n not in visited:\n",
    "        reg_del.append(lis[n])   \n",
    "        \n",
    "for i in reg_del:\n",
    "    train_data.drop( train_data[ train_data['tweets'] == i ].index, inplace=True)\n",
    "    \n",
    "train_data['class'].value_counts()"
   ]
  },
  {
   "cell_type": "code",
   "execution_count": 9,
   "id": "c0fc3fe4",
   "metadata": {},
   "outputs": [
    {
     "data": {
      "text/plain": [
       "sarcasm       2054\n",
       "irony         2029\n",
       "figurative    1911\n",
       "regular       1859\n",
       "Name: class, dtype: int64"
      ]
     },
     "execution_count": 9,
     "metadata": {},
     "output_type": "execute_result"
    }
   ],
   "source": [
    "test_data['class'].value_counts()"
   ]
  },
  {
   "cell_type": "code",
   "execution_count": 10,
   "id": "6b4501d5",
   "metadata": {},
   "outputs": [],
   "source": [
    "test_data = test_data.dropna()"
   ]
  },
  {
   "cell_type": "code",
   "execution_count": 11,
   "id": "a9991adb",
   "metadata": {},
   "outputs": [],
   "source": [
    "def clean(tweet): \n",
    "    \n",
    "    # Special characters\n",
    "    tweet = re.sub(r\"\\x89Û_\", \"\", tweet)\n",
    "    tweet = re.sub(r\"\\x89ÛÒ\", \"\", tweet)\n",
    "    tweet = re.sub(r\"\\x89ÛÓ\", \"\", tweet)\n",
    "    tweet = re.sub(r\"\\x89ÛÏWhen\", \"When\", tweet)\n",
    "    tweet = re.sub(r\"\\x89ÛÏ\", \"\", tweet)\n",
    "    tweet = re.sub(r\"China\\x89Ûªs\", \"China's\", tweet)\n",
    "    tweet = re.sub(r\"let\\x89Ûªs\", \"let's\", tweet)\n",
    "    tweet = re.sub(r\"\\x89Û÷\", \"\", tweet)\n",
    "    tweet = re.sub(r\"\\x89Ûª\", \"\", tweet)\n",
    "    tweet = re.sub(r\"\\x89Û\\x9d\", \"\", tweet)\n",
    "    tweet = re.sub(r\"å_\", \"\", tweet)\n",
    "    tweet = re.sub(r\"\\x89Û¢\", \"\", tweet)\n",
    "    tweet = re.sub(r\"\\x89Û¢åÊ\", \"\", tweet)\n",
    "    tweet = re.sub(r\"fromåÊwounds\", \"from wounds\", tweet)\n",
    "    tweet = re.sub(r\"åÊ\", \"\", tweet)\n",
    "    tweet = re.sub(r\"åÈ\", \"\", tweet)\n",
    "    tweet = re.sub(r\"JapÌ_n\", \"Japan\", tweet)    \n",
    "    tweet = re.sub(r\"Ì©\", \"e\", tweet)\n",
    "    tweet = re.sub(r\"å¨\", \"\", tweet)\n",
    "    tweet = re.sub(r\"SuruÌ¤\", \"Suruc\", tweet)\n",
    "    tweet = re.sub(r\"åÇ\", \"\", tweet)\n",
    "    tweet = re.sub(r\"å£3million\", \"3 million\", tweet)\n",
    "    tweet = re.sub(r\"åÀ\", \"\", tweet)\n",
    "    \n",
    "    #emojis\n",
    "    emoji_pattern = re.compile(\n",
    "        '['\n",
    "        u'\\U0001F600-\\U0001F64F'  # emoticons\n",
    "        u'\\U0001F300-\\U0001F5FF'  # symbols & pictographs\n",
    "        u'\\U0001F680-\\U0001F6FF'  # transport & map symbols\n",
    "        u'\\U0001F1E0-\\U0001F1FF'  # flags\n",
    "        u'\\U00002702-\\U000027B0'\n",
    "        u'\\U000024C2-\\U0001F251'\n",
    "        ']+',\n",
    "        flags=re.UNICODE)\n",
    "    tweet =  emoji_pattern.sub(r'', tweet)\n",
    "    \n",
    "    # usernames mentions like \"@abc123\"\n",
    "    ment = re.compile(r\"(@[A-Za-z0-9]+)\")\n",
    "    tweet =  ment.sub(r'', tweet)\n",
    "    \n",
    "    # Contractions\n",
    "    tweet = re.sub(r\"he's\", \"he is\", tweet)\n",
    "    tweet = re.sub(r\"there's\", \"there is\", tweet)\n",
    "    tweet = re.sub(r\"We're\", \"We are\", tweet)\n",
    "    tweet = re.sub(r\"That's\", \"That is\", tweet)\n",
    "    tweet = re.sub(r\"won't\", \"will not\", tweet)\n",
    "    tweet = re.sub(r\"they're\", \"they are\", tweet)\n",
    "    tweet = re.sub(r\"Can't\", \"Cannot\", tweet)\n",
    "    tweet = re.sub(r\"wasn't\", \"was not\", tweet)\n",
    "    tweet = re.sub(r\"don\\x89Ûªt\", \"do not\", tweet)\n",
    "    tweet = re.sub(r\"aren't\", \"are not\", tweet)\n",
    "    tweet = re.sub(r\"isn't\", \"is not\", tweet)\n",
    "    tweet = re.sub(r\"What's\", \"What is\", tweet)\n",
    "    tweet = re.sub(r\"haven't\", \"have not\", tweet)\n",
    "    tweet = re.sub(r\"hasn't\", \"has not\", tweet)\n",
    "    tweet = re.sub(r\"There's\", \"There is\", tweet)\n",
    "    tweet = re.sub(r\"He's\", \"He is\", tweet)\n",
    "    tweet = re.sub(r\"It's\", \"It is\", tweet)\n",
    "    tweet = re.sub(r\"You're\", \"You are\", tweet)\n",
    "    tweet = re.sub(r\"I'M\", \"I am\", tweet)\n",
    "    tweet = re.sub(r\"shouldn't\", \"should not\", tweet)\n",
    "    tweet = re.sub(r\"wouldn't\", \"would not\", tweet)\n",
    "    tweet = re.sub(r\"i'm\", \"I am\", tweet)\n",
    "    tweet = re.sub(r\"I\\x89Ûªm\", \"I am\", tweet)\n",
    "    tweet = re.sub(r\"I'm\", \"I am\", tweet)\n",
    "    tweet = re.sub(r\"Isn't\", \"is not\", tweet)\n",
    "    tweet = re.sub(r\"Here's\", \"Here is\", tweet)\n",
    "    tweet = re.sub(r\"you've\", \"you have\", tweet)\n",
    "    tweet = re.sub(r\"you\\x89Ûªve\", \"you have\", tweet)\n",
    "    tweet = re.sub(r\"we're\", \"we are\", tweet)\n",
    "    tweet = re.sub(r\"what's\", \"what is\", tweet)\n",
    "    tweet = re.sub(r\"couldn't\", \"could not\", tweet)\n",
    "    tweet = re.sub(r\"we've\", \"we have\", tweet)\n",
    "    tweet = re.sub(r\"it\\x89Ûªs\", \"it is\", tweet)\n",
    "    tweet = re.sub(r\"doesn\\x89Ûªt\", \"does not\", tweet)\n",
    "    tweet = re.sub(r\"It\\x89Ûªs\", \"It is\", tweet)\n",
    "    tweet = re.sub(r\"Here\\x89Ûªs\", \"Here is\", tweet)\n",
    "    tweet = re.sub(r\"who's\", \"who is\", tweet)\n",
    "    tweet = re.sub(r\"I\\x89Ûªve\", \"I have\", tweet)\n",
    "    tweet = re.sub(r\"y'all\", \"you all\", tweet)\n",
    "    tweet = re.sub(r\"can\\x89Ûªt\", \"cannot\", tweet)\n",
    "    tweet = re.sub(r\"would've\", \"would have\", tweet)\n",
    "    tweet = re.sub(r\"it'll\", \"it will\", tweet)\n",
    "    tweet = re.sub(r\"we'll\", \"we will\", tweet)\n",
    "    tweet = re.sub(r\"wouldn\\x89Ûªt\", \"would not\", tweet)\n",
    "    tweet = re.sub(r\"We've\", \"We have\", tweet)\n",
    "    tweet = re.sub(r\"he'll\", \"he will\", tweet)\n",
    "    tweet = re.sub(r\"Y'all\", \"You all\", tweet)\n",
    "    tweet = re.sub(r\"Weren't\", \"Were not\", tweet)\n",
    "    tweet = re.sub(r\"Didn't\", \"Did not\", tweet)\n",
    "    tweet = re.sub(r\"they'll\", \"they will\", tweet)\n",
    "    tweet = re.sub(r\"they'd\", \"they would\", tweet)\n",
    "    tweet = re.sub(r\"DON'T\", \"DO NOT\", tweet)\n",
    "    tweet = re.sub(r\"That\\x89Ûªs\", \"That is\", tweet)\n",
    "    tweet = re.sub(r\"they've\", \"they have\", tweet)\n",
    "    tweet = re.sub(r\"i'd\", \"I would\", tweet)\n",
    "    tweet = re.sub(r\"should've\", \"should have\", tweet)\n",
    "    tweet = re.sub(r\"You\\x89Ûªre\", \"You are\", tweet)\n",
    "    tweet = re.sub(r\"where's\", \"where is\", tweet)\n",
    "    tweet = re.sub(r\"Don\\x89Ûªt\", \"Do not\", tweet)\n",
    "    tweet = re.sub(r\"we'd\", \"we would\", tweet)\n",
    "    tweet = re.sub(r\"i'll\", \"I will\", tweet)\n",
    "    tweet = re.sub(r\"weren't\", \"were not\", tweet)\n",
    "    tweet = re.sub(r\"They're\", \"They are\", tweet)\n",
    "    tweet = re.sub(r\"Can\\x89Ûªt\", \"Cannot\", tweet)\n",
    "    tweet = re.sub(r\"you\\x89Ûªll\", \"you will\", tweet)\n",
    "    tweet = re.sub(r\"I\\x89Ûªd\", \"I would\", tweet)\n",
    "    tweet = re.sub(r\"let's\", \"let us\", tweet)\n",
    "    tweet = re.sub(r\"it's\", \"it is\", tweet)\n",
    "    tweet = re.sub(r\"can't\", \"cannot\", tweet)\n",
    "    tweet = re.sub(r\"don't\", \"do not\", tweet)\n",
    "    tweet = re.sub(r\"you're\", \"you are\", tweet)\n",
    "    tweet = re.sub(r\"i've\", \"I have\", tweet)\n",
    "    tweet = re.sub(r\"that's\", \"that is\", tweet)\n",
    "    tweet = re.sub(r\"i'll\", \"I will\", tweet)\n",
    "    tweet = re.sub(r\"doesn't\", \"does not\", tweet)\n",
    "    tweet = re.sub(r\"i'd\", \"I would\", tweet)\n",
    "    tweet = re.sub(r\"didn't\", \"did not\", tweet)\n",
    "    tweet = re.sub(r\"ain't\", \"am not\", tweet)\n",
    "    tweet = re.sub(r\"you'll\", \"you will\", tweet)\n",
    "    tweet = re.sub(r\"I've\", \"I have\", tweet)\n",
    "    tweet = re.sub(r\"Don't\", \"do not\", tweet)\n",
    "    tweet = re.sub(r\"I'll\", \"I will\", tweet)\n",
    "    tweet = re.sub(r\"I'd\", \"I would\", tweet)\n",
    "    tweet = re.sub(r\"Let's\", \"Let us\", tweet)\n",
    "    tweet = re.sub(r\"you'd\", \"You would\", tweet)\n",
    "    tweet = re.sub(r\"It's\", \"It is\", tweet)\n",
    "    tweet = re.sub(r\"Ain't\", \"am not\", tweet)\n",
    "    tweet = re.sub(r\"Haven't\", \"Have not\", tweet)\n",
    "    tweet = re.sub(r\"Could've\", \"Could have\", tweet)\n",
    "    tweet = re.sub(r\"youve\", \"you have\", tweet)  \n",
    "    tweet = re.sub(r\"donå«t\", \"do not\", tweet)   \n",
    "            \n",
    "    # Character entity references\n",
    "    tweet = re.sub(r\"&amp;\", \"&\", tweet)\n",
    "    \n",
    "    # html tags\n",
    "    html = re.compile(r'<.*?>|&([a-z0-9]+|#[0-9]{1,6}|#x[0-9a-f]{1,6});')\n",
    "    tweet = re.sub(html, '', tweet)\n",
    "    \n",
    "    # Urls\n",
    "    tweet = re.sub(r\"https?:\\/\\/t.co\\/[A-Za-z0-9]+\", \"\", tweet)\n",
    "    tweet = re.sub(r'https?://\\S+|www\\.\\S+','', tweet)\n",
    "        \n",
    "    #Punctuations and special characters\n",
    "    \n",
    "    tweet = re.sub('[%s]' % re.escape(string.punctuation),'',tweet)\n",
    "    \n",
    "    tweet = tweet.lower()\n",
    "    \n",
    "    splits = tweet.split()\n",
    "    splits = [word for word in splits if word not in set(nltk.corpus.stopwords.words('english'))]\n",
    "    tweet = ' '.join(splits)\n",
    "    \n",
    "    return tweet"
   ]
  },
  {
   "cell_type": "code",
   "execution_count": 27,
   "id": "ac28e20c",
   "metadata": {},
   "outputs": [
    {
     "name": "stdout",
     "output_type": "stream",
     "text": [
      "Cleaned\n"
     ]
    }
   ],
   "source": [
    "train_data['cleaned_text']= train_data['tweets'].apply((lambda x: clean(x))) \n",
    "test_data['cleaned_text'] = test_data['tweets'].apply((lambda x: clean(x)))\n",
    "print(\"Cleaned\")"
   ]
  },
  {
   "cell_type": "code",
   "execution_count": 51,
   "id": "3fb0dcc3",
   "metadata": {},
   "outputs": [
    {
     "name": "stderr",
     "output_type": "stream",
     "text": [
      "C:\\Users\\Sukrutha\\anaconda3\\lib\\site-packages\\seaborn\\_decorators.py:36: FutureWarning: Pass the following variable as a keyword arg: x. From version 0.12, the only valid positional argument will be `data`, and passing other arguments without an explicit keyword will result in an error or misinterpretation.\n",
      "  warnings.warn(\n"
     ]
    },
    {
     "data": {
      "text/plain": [
       "<AxesSubplot:xlabel='class', ylabel='count'>"
      ]
     },
     "execution_count": 51,
     "metadata": {},
     "output_type": "execute_result"
    },
    {
     "data": {
      "image/png": "[encoded data removed]",
      "text/plain": [
       "<Figure size 720x720 with 1 Axes>"
      ]
     },
     "metadata": {},
     "output_type": "display_data"
    }
   ],
   "source": [
    "sns.set(rc={'figure.figsize':(10,10)})\n",
    "sns.countplot(train_data['class'], palette = 'magma') \n"
   ]
  },
  {
   "cell_type": "code",
   "execution_count": 29,
   "id": "794882dd",
   "metadata": {},
   "outputs": [
    {
     "data": {
      "text/html": [
       "<div>\n",
       "<style scoped>\n",
       "    .dataframe tbody tr th:only-of-type {\n",
       "        vertical-align: middle;\n",
       "    }\n",
       "\n",
       "    .dataframe tbody tr th {\n",
       "        vertical-align: top;\n",
       "    }\n",
       "\n",
       "    .dataframe thead th {\n",
       "        text-align: right;\n",
       "    }\n",
       "</style>\n",
       "<table border=\"1\" class=\"dataframe\">\n",
       "  <thead>\n",
       "    <tr style=\"text-align: right;\">\n",
       "      <th></th>\n",
       "      <th>tweets</th>\n",
       "      <th>class</th>\n",
       "      <th>cleaned_text</th>\n",
       "      <th>target</th>\n",
       "    </tr>\n",
       "  </thead>\n",
       "  <tbody>\n",
       "    <tr>\n",
       "      <th>37243</th>\n",
       "      <td>It's not checkers this chess #ironic</td>\n",
       "      <td>irony</td>\n",
       "      <td>checkers chess ironic</td>\n",
       "      <td>0</td>\n",
       "    </tr>\n",
       "    <tr>\n",
       "      <th>17599</th>\n",
       "      <td>@DanEwald @LeeCamp Just because the rivers run...</td>\n",
       "      <td>figurative</td>\n",
       "      <td>rivers run dry pockets plus would say h2glow s...</td>\n",
       "      <td>3</td>\n",
       "    </tr>\n",
       "    <tr>\n",
       "      <th>57951</th>\n",
       "      <td>@NWPolice School Community Police Officer PC O...</td>\n",
       "      <td>regular</td>\n",
       "      <td>school community police officer pc owen lesson...</td>\n",
       "      <td>2</td>\n",
       "    </tr>\n",
       "    <tr>\n",
       "      <th>33550</th>\n",
       "      <td>Can't get any better than listening to a dude ...</td>\n",
       "      <td>irony</td>\n",
       "      <td>cannot get better listening dude mean gingivit...</td>\n",
       "      <td>0</td>\n",
       "    </tr>\n",
       "    <tr>\n",
       "      <th>16535</th>\n",
       "      <td>I really love when you ignore me...#myfavorite...</td>\n",
       "      <td>figurative</td>\n",
       "      <td>really love ignore memyfavorite sarcasm</td>\n",
       "      <td>3</td>\n",
       "    </tr>\n",
       "  </tbody>\n",
       "</table>\n",
       "</div>"
      ],
      "text/plain": [
       "                                                  tweets       class  \\\n",
       "37243               It's not checkers this chess #ironic       irony   \n",
       "17599  @DanEwald @LeeCamp Just because the rivers run...  figurative   \n",
       "57951  @NWPolice School Community Police Officer PC O...     regular   \n",
       "33550  Can't get any better than listening to a dude ...       irony   \n",
       "16535  I really love when you ignore me...#myfavorite...  figurative   \n",
       "\n",
       "                                            cleaned_text  target  \n",
       "37243                              checkers chess ironic       0  \n",
       "17599  rivers run dry pockets plus would say h2glow s...       3  \n",
       "57951  school community police officer pc owen lesson...       2  \n",
       "33550  cannot get better listening dude mean gingivit...       0  \n",
       "16535            really love ignore memyfavorite sarcasm       3  "
      ]
     },
     "execution_count": 29,
     "metadata": {},
     "output_type": "execute_result"
    }
   ],
   "source": [
    "train_data.head()"
   ]
  },
  {
   "cell_type": "code",
   "execution_count": 52,
   "id": "f931d779",
   "metadata": {},
   "outputs": [
    {
     "name": "stderr",
     "output_type": "stream",
     "text": [
      "C:\\Users\\Sukrutha\\anaconda3\\lib\\site-packages\\seaborn\\_decorators.py:36: FutureWarning: Pass the following variable as a keyword arg: x. From version 0.12, the only valid positional argument will be `data`, and passing other arguments without an explicit keyword will result in an error or misinterpretation.\n",
      "  warnings.warn(\n"
     ]
    },
    {
     "data": {
      "image/png": "[encoded data removed]",
      "text/plain": [
       "<Figure size 720x720 with 1 Axes>"
      ]
     },
     "metadata": {},
     "output_type": "display_data"
    }
   ],
   "source": [
    "sns.set(rc={'figure.figsize':(10,10)})\n",
    "sns.countplot(train_data['class'], palette = 'magma')\n",
    "plt.style.use(\"dark_background\")"
   ]
  },
  {
   "cell_type": "code",
   "execution_count": 31,
   "id": "ef051319",
   "metadata": {},
   "outputs": [],
   "source": [
    "def encode_target(t_class):\n",
    "    t_class=str(t_class)\n",
    "    class_dict = {\n",
    "        'irony':0,\n",
    "        'sarcasm':1,\n",
    "        'regular':2,\n",
    "        'figurative':3\n",
    "    }\n",
    "    return class_dict[t_class]"
   ]
  },
  {
   "cell_type": "code",
   "execution_count": 32,
   "id": "0e3cd074",
   "metadata": {},
   "outputs": [],
   "source": [
    "train_data[\"target\"] = train_data['class'].apply(lambda x: encode_target(x))\n",
    "test_data[\"target\"] = test_data['class'].apply(lambda x: encode_target(x))"
   ]
  },
  {
   "cell_type": "code",
   "execution_count": 33,
   "id": "08229e0c",
   "metadata": {},
   "outputs": [
    {
     "data": {
      "text/html": [
       "<div>\n",
       "<style scoped>\n",
       "    .dataframe tbody tr th:only-of-type {\n",
       "        vertical-align: middle;\n",
       "    }\n",
       "\n",
       "    .dataframe tbody tr th {\n",
       "        vertical-align: top;\n",
       "    }\n",
       "\n",
       "    .dataframe thead th {\n",
       "        text-align: right;\n",
       "    }\n",
       "</style>\n",
       "<table border=\"1\" class=\"dataframe\">\n",
       "  <thead>\n",
       "    <tr style=\"text-align: right;\">\n",
       "      <th></th>\n",
       "      <th>text</th>\n",
       "      <th>labels</th>\n",
       "    </tr>\n",
       "  </thead>\n",
       "  <tbody>\n",
       "    <tr>\n",
       "      <th>37243</th>\n",
       "      <td>checkers chess ironic</td>\n",
       "      <td>0</td>\n",
       "    </tr>\n",
       "    <tr>\n",
       "      <th>17599</th>\n",
       "      <td>rivers run dry pockets plus would say h2glow s...</td>\n",
       "      <td>3</td>\n",
       "    </tr>\n",
       "    <tr>\n",
       "      <th>57951</th>\n",
       "      <td>school community police officer pc owen lesson...</td>\n",
       "      <td>2</td>\n",
       "    </tr>\n",
       "    <tr>\n",
       "      <th>33550</th>\n",
       "      <td>cannot get better listening dude mean gingivit...</td>\n",
       "      <td>0</td>\n",
       "    </tr>\n",
       "    <tr>\n",
       "      <th>16535</th>\n",
       "      <td>really love ignore memyfavorite sarcasm</td>\n",
       "      <td>3</td>\n",
       "    </tr>\n",
       "  </tbody>\n",
       "</table>\n",
       "</div>"
      ],
      "text/plain": [
       "                                                    text  labels\n",
       "37243                              checkers chess ironic       0\n",
       "17599  rivers run dry pockets plus would say h2glow s...       3\n",
       "57951  school community police officer pc owen lesson...       2\n",
       "33550  cannot get better listening dude mean gingivit...       0\n",
       "16535            really love ignore memyfavorite sarcasm       3"
      ]
     },
     "execution_count": 33,
     "metadata": {},
     "output_type": "execute_result"
    }
   ],
   "source": [
    "train = train_data[['cleaned_text','target']]\n",
    "train.columns = ['text','labels']\n",
    "\n",
    "test = test_data[['cleaned_text','target']]\n",
    "test.columns = ['text','labels']\n",
    "train.head()"
   ]
  },
  {
   "cell_type": "code",
   "execution_count": 34,
   "id": "ca45758e",
   "metadata": {},
   "outputs": [
    {
     "data": {
      "text/html": [
       "<div>\n",
       "<style scoped>\n",
       "    .dataframe tbody tr th:only-of-type {\n",
       "        vertical-align: middle;\n",
       "    }\n",
       "\n",
       "    .dataframe tbody tr th {\n",
       "        vertical-align: top;\n",
       "    }\n",
       "\n",
       "    .dataframe thead th {\n",
       "        text-align: right;\n",
       "    }\n",
       "</style>\n",
       "<table border=\"1\" class=\"dataframe\">\n",
       "  <thead>\n",
       "    <tr style=\"text-align: right;\">\n",
       "      <th></th>\n",
       "      <th>text</th>\n",
       "      <th>labels</th>\n",
       "    </tr>\n",
       "  </thead>\n",
       "  <tbody>\n",
       "    <tr>\n",
       "      <th>3339</th>\n",
       "      <td>fred jackson lead bills rushing last couple se...</td>\n",
       "      <td>0</td>\n",
       "    </tr>\n",
       "    <tr>\n",
       "      <th>4799</th>\n",
       "      <td>augustphotochallenge day29 late snack amazing ...</td>\n",
       "      <td>2</td>\n",
       "    </tr>\n",
       "    <tr>\n",
       "      <th>297</th>\n",
       "      <td>persian subtitle one screenshots reads hezboll...</td>\n",
       "      <td>3</td>\n",
       "    </tr>\n",
       "    <tr>\n",
       "      <th>3023</th>\n",
       "      <td>tell else winwin situation wanking sink sellin...</td>\n",
       "      <td>0</td>\n",
       "    </tr>\n",
       "    <tr>\n",
       "      <th>7692</th>\n",
       "      <td>keep golden ponyboy love intelligence sarcasm</td>\n",
       "      <td>1</td>\n",
       "    </tr>\n",
       "  </tbody>\n",
       "</table>\n",
       "</div>"
      ],
      "text/plain": [
       "                                                   text  labels\n",
       "3339  fred jackson lead bills rushing last couple se...       0\n",
       "4799  augustphotochallenge day29 late snack amazing ...       2\n",
       "297   persian subtitle one screenshots reads hezboll...       3\n",
       "3023  tell else winwin situation wanking sink sellin...       0\n",
       "7692      keep golden ponyboy love intelligence sarcasm       1"
      ]
     },
     "execution_count": 34,
     "metadata": {},
     "output_type": "execute_result"
    }
   ],
   "source": [
    "test.head()"
   ]
  },
  {
   "cell_type": "code",
   "execution_count": 35,
   "id": "78519716",
   "metadata": {},
   "outputs": [],
   "source": [
    "traintexts=train['text'].tolist()\n",
    "testtexts=test['text'].tolist()\n",
    "\n",
    "all_texts = traintexts + testtexts\n",
    "\n",
    "count_vect = CountVectorizer(analyzer='word', token_pattern=r'\\w{1,}')\n",
    "count_vect.fit(all_texts)\n",
    "xtrain_count =  count_vect.transform(train['text'])\n",
    "xtest_count =  count_vect.transform(test['text'])"
   ]
  },
  {
   "cell_type": "code",
   "execution_count": 36,
   "id": "c6dd3db2",
   "metadata": {},
   "outputs": [],
   "source": [
    "tfidf_vect = TfidfVectorizer(analyzer='word', token_pattern=r'\\w{1,}', max_features=55000)\n",
    "tfidf_vect.fit(all_texts)\n",
    "xtrain_tfidf =  tfidf_vect.transform(train['text'])\n",
    "xtest_tfidf =  tfidf_vect.transform(test['text'])"
   ]
  },
  {
   "cell_type": "code",
   "execution_count": 37,
   "id": "f93f8938",
   "metadata": {},
   "outputs": [],
   "source": [
    "hash_vectorizer = HashingVectorizer(n_features=55000)\n",
    "hash_vectorizer.fit(all_texts)\n",
    "xtrain_hash_vectorizer =  hash_vectorizer.transform(train['text']) \n",
    "xtest_hash_vectorizer =  hash_vectorizer.transform(test['text'])"
   ]
  },
  {
   "cell_type": "code",
   "execution_count": 38,
   "id": "2539eb34",
   "metadata": {},
   "outputs": [],
   "source": [
    "def train_model(classifier, feature_vector_train, label, feature_vector_test, test_y):\n",
    "    # fit the training dataset on the classifier\n",
    "    classifier.fit(feature_vector_train, label)\n",
    "    \n",
    "    # predict the labels on validation dataset\n",
    "    predictions = classifier.predict(feature_vector_test)\n",
    "    \n",
    "    return metrics.accuracy_score(predictions, test_y)"
   ]
  },
  {
   "cell_type": "code",
   "execution_count": 39,
   "id": "eeae1ac8",
   "metadata": {},
   "outputs": [
    {
     "name": "stdout",
     "output_type": "stream",
     "text": [
      "NAIVE BAYES CLASSIFIER\n",
      "-> Count Vectors Accuracy: 69.43% \n",
      "-> WordLevel TF-IDF Accuracy: 68.14%\n"
     ]
    }
   ],
   "source": [
    "print(\"NAIVE BAYES CLASSIFIER\")\n",
    "# Naive Bayes on Count Vectors\n",
    "accuracy = train_model(naive_bayes.MultinomialNB(), xtrain_count, train['labels'], xtest_count, test['labels'])\n",
    "print(\"-> Count Vectors Accuracy: {}% \".format(round(accuracy,4)*100))\n",
    "# Naive Bayes on Word Level TF IDF Vectors\n",
    "accuracy = train_model(naive_bayes.MultinomialNB(), xtrain_tfidf, train['labels'], xtest_tfidf, test['labels'])\n",
    "print(\"-> WordLevel TF-IDF Accuracy: {}%\".format(round(accuracy,4)*100))"
   ]
  },
  {
   "cell_type": "code",
   "execution_count": 40,
   "id": "36c79487",
   "metadata": {},
   "outputs": [
    {
     "name": "stdout",
     "output_type": "stream",
     "text": [
      "LINEAR CLASSIFIER\n",
      "-> Count Vectors Accuracy: 63.13999999999999% \n",
      "-> WordLevel TF-IDF Accuracy: 74.33999999999999%\n",
      "-> Hash Vectors Accuracy: 75.0%\n"
     ]
    }
   ],
   "source": [
    "print(\"LINEAR CLASSIFIER\")\n",
    "# Linear Classifier on Count Vectors\n",
    "accuracy = train_model(linear_model.LogisticRegression(solver=\"lbfgs\",multi_class=\"auto\",max_iter=13000, n_jobs=2), xtrain_count, train['labels'], xtest_count, test['labels'])\n",
    "print(\"-> Count Vectors Accuracy: {}% \".format(round(accuracy,4)*100))\n",
    "# Linear Classifier on Word Level TF IDF Vectors\n",
    "accuracy = train_model(linear_model.LogisticRegression(solver=\"lbfgs\",multi_class=\"auto\",max_iter=13000, n_jobs=2), xtrain_tfidf, train['labels'], xtest_tfidf, test['labels'])\n",
    "print(\"-> WordLevel TF-IDF Accuracy: {}%\".format(round(accuracy,4)*100))\n",
    "# Linear Classifier on Hash Vectors\n",
    "accuracy = train_model(linear_model.LogisticRegression(solver=\"lbfgs\",multi_class=\"auto\",max_iter=13000, n_jobs=2), xtrain_hash_vectorizer, train['labels'], xtest_hash_vectorizer, test['labels'])\n",
    "print(\"-> Hash Vectors Accuracy: {}%\".format(round(accuracy,4)*100))"
   ]
  },
  {
   "cell_type": "code",
   "execution_count": 41,
   "id": "d8a5ca11",
   "metadata": {},
   "outputs": [
    {
     "name": "stdout",
     "output_type": "stream",
     "text": [
      "XGBOOST CLASSIFIER\n",
      "-> Count Vectors Accuracy: 75.35% \n",
      "-> WordLevel TF-IDF Accuracy: 75.16000000000001%\n",
      "-> Hash Vectors Accuracy: 75.16000000000001%\n"
     ]
    }
   ],
   "source": [
    "print(\"XGBOOST CLASSIFIER\")\n",
    "# Linear Classifier on Count Vectors\n",
    "accuracy = train_model(xgboost.XGBClassifier(), xtrain_count, train['labels'], xtest_count, test['labels'])\n",
    "print(\"-> Count Vectors Accuracy: {}% \".format(round(accuracy,4)*100))\n",
    "# Linear Classifier on Word Level TF IDF Vectors\n",
    "accuracy = train_model(xgboost.XGBClassifier(), xtrain_tfidf, train['labels'], xtest_tfidf, test['labels'])\n",
    "print(\"-> WordLevel TF-IDF Accuracy: {}%\".format(round(accuracy,4)*100))\n",
    "# Linear Classifier on Hash Vectors\n",
    "accuracy = train_model(xgboost.XGBClassifier(), xtrain_hash_vectorizer, train['labels'], xtest_hash_vectorizer, test['labels'])\n",
    "print(\"-> Hash Vectors Accuracy: {}%\".format(round(accuracy,4)*100))"
   ]
  },
  {
   "cell_type": "code",
   "execution_count": null,
   "id": "784f1fdd",
   "metadata": {},
   "outputs": [],
   "source": []
  },
  {
   "cell_type": "code",
   "execution_count": null,
   "id": "69393a37",
   "metadata": {},
   "outputs": [],
   "source": []
  }
 ],
 "metadata": {
  "kernelspec": {
   "display_name": "Python 3",
   "language": "python",
   "name": "python3"
  },
  "language_info": {
   "codemirror_mode": {
    "name": "ipython",
    "version": 3
   },
   "file_extension": ".py",
   "mimetype": "text/x-python",
   "name": "python",
   "nbconvert_exporter": "python",
   "pygments_lexer": "ipython3",
   "version": "3.8.8"
  }
 },
 "nbformat": 4,
 "nbformat_minor": 5
}
